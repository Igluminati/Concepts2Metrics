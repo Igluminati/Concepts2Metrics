{
 "cells": [
  {
   "cell_type": "markdown",
   "id": "7c40dd38-69da-4f67-81d2-554dd6d2ce19",
   "metadata": {},
   "source": [
    "# Creating & Reading Data\n",
    "\n",
    "Initialisation code:"
   ]
  },
  {
   "cell_type": "code",
   "execution_count": 2,
   "id": "ee1100cf-11f7-457c-a4ba-06e184eb2ca7",
   "metadata": {},
   "outputs": [],
   "source": [
    "import pandas as pd\n",
    "power_lifting = pd.read_csv(\"./Data/slice_level_oh_tags.csv\", low_memory=False)\n",
    "pd.set_option('display.max_rows', 10)\n",
    "pd.set_option('display.max_columns', 15)"
   ]
  },
  {
   "cell_type": "code",
   "execution_count": null,
   "id": "506fb5c7-ecf3-4a96-8a2b-16cdfe7e0d60",
   "metadata": {},
   "outputs": [],
   "source": []
  }
 ],
 "metadata": {
  "kernelspec": {
   "display_name": "Python 3 (ipykernel)",
   "language": "python",
   "name": "python3"
  },
  "language_info": {
   "codemirror_mode": {
    "name": "ipython",
    "version": 3
   },
   "file_extension": ".py",
   "mimetype": "text/x-python",
   "name": "python",
   "nbconvert_exporter": "python",
   "pygments_lexer": "ipython3",
   "version": "3.11.3"
  }
 },
 "nbformat": 4,
 "nbformat_minor": 5
}
