{
 "cells": [
  {
   "cell_type": "markdown",
   "id": "7c40dd38-69da-4f67-81d2-554dd6d2ce19",
   "metadata": {},
   "source": [
    "# Creating & Reading Data\n",
    "\n",
    "Initialisation code:"
   ]
  },
  {
   "cell_type": "code",
   "execution_count": null,
   "id": "506fb5c7-ecf3-4a96-8a2b-16cdfe7e0d60",
   "metadata": {},
   "outputs": [],
   "source": [
    "import pandas as pd\n",
    "slice = pd.read_csv(\"./Data/slice_level_oh_tags.csv\", low_memory=False)\n",
    "meta_data = pd.read_csv(\"./Data/concept_tagging_metadata.csv\", low_memory=False)\n",
    "pd.set_option('display.max_rows', 15)\n",
    "pd.set_option('display.max_columns', 15)\n",
    "\n",
    "slice"
   ]
  },
  {
   "cell_type": "code",
   "execution_count": null,
   "id": "73655cde",
   "metadata": {},
   "outputs": [],
   "source": [
    "meta_data"
   ]
  },
  {
   "cell_type": "markdown",
   "id": "e136aac0-cfc8-4231-851e-c666d970ed8c",
   "metadata": {},
   "source": [
    "# Mapping Slice & Meta_Data Using concept_id and slice_id as a key"
   ]
  },
  {
   "cell_type": "code",
   "execution_count": null,
   "id": "020ef578-58a9-48f0-bc6d-57a6a85799dd",
   "metadata": {},
   "outputs": [],
   "source": [
    "merged = slice.merge(meta_data, left_on='concept_id', right_on='slice_id')\n",
    "merged"
   ]
  },
  {
   "cell_type": "markdown",
   "id": "a617bf74-4c0b-4031-bf5a-499572c9138d",
   "metadata": {},
   "source": [
    "# Analysis"
   ]
  },
  {
   "cell_type": "markdown",
   "id": "c2092b32-7eb3-4333-a2b4-9942b15f2f3b",
   "metadata": {},
   "source": [
    "## Linear Regression"
   ]
  },
  {
   "cell_type": "code",
   "execution_count": null,
   "id": "909ad72d-fbbe-4eb0-885f-55e125352344",
   "metadata": {},
   "outputs": [],
   "source": []
  },
  {
   "cell_type": "markdown",
   "id": "b954f44f-0fe9-42df-ac29-a4b9fc12b837",
   "metadata": {},
   "source": [
    "## Correlation Coefficient"
   ]
  },
  {
   "cell_type": "code",
   "execution_count": null,
   "id": "7296e839-b967-415e-810c-1cad8ddc4e38",
   "metadata": {},
   "outputs": [],
   "source": []
  },
  {
   "cell_type": "markdown",
   "id": "90c58492-9fb8-4ae9-a8cb-177d711c8b01",
   "metadata": {},
   "source": [
    "## Key Drivers"
   ]
  },
  {
   "cell_type": "code",
   "execution_count": null,
   "id": "8861e08a-4709-4d96-a565-e1d7b02e0d87",
   "metadata": {},
   "outputs": [],
   "source": []
  },
  {
   "cell_type": "markdown",
   "id": "ccc6cad2-aa3e-4716-a696-52c4a3e1f9a4",
   "metadata": {},
   "source": [
    "## Decision Trees"
   ]
  },
  {
   "cell_type": "code",
   "execution_count": null,
   "id": "84f461fc-c7a6-4f76-926f-b3ee251f949a",
   "metadata": {},
   "outputs": [],
   "source": []
  },
  {
   "cell_type": "markdown",
   "id": "bc778ca1-4462-41f0-8f61-dc48a9c51c68",
   "metadata": {},
   "source": [
    "## Principle Component Analysis"
   ]
  },
  {
   "cell_type": "code",
   "execution_count": null,
   "id": "8885b2fd-14a6-464e-a95b-f744c648a0f5",
   "metadata": {},
   "outputs": [],
   "source": []
  },
  {
   "cell_type": "markdown",
   "id": "a58ebc8e-3e9b-4885-bbd5-21252141d0a5",
   "metadata": {},
   "source": [
    "## Clustering"
   ]
  },
  {
   "cell_type": "code",
   "execution_count": null,
   "id": "bb77ecfc",
   "metadata": {},
   "outputs": [],
   "source": []
  },
  {
   "cell_type": "markdown",
   "id": "177a4d8f-c899-4197-be63-6ce26f562d31",
   "metadata": {},
   "source": [
    "## T-Test"
   ]
  },
  {
   "cell_type": "code",
   "execution_count": null,
   "id": "cdfc3983-6b1e-4d9e-bf96-1081b52e0736",
   "metadata": {},
   "outputs": [],
   "source": []
  }
 ],
 "metadata": {
  "kernelspec": {
   "display_name": "Python 3 (ipykernel)",
   "language": "python",
   "name": "python3"
  },
  "language_info": {
   "codemirror_mode": {
    "name": "ipython",
    "version": 3
   },
   "file_extension": ".py",
   "mimetype": "text/x-python",
   "name": "python",
   "nbconvert_exporter": "python",
   "pygments_lexer": "ipython3",
   "version": "3.9.6"
  }
 },
 "nbformat": 4,
 "nbformat_minor": 5
}
